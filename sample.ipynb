{
 "cells": [
  {
   "cell_type": "code",
   "outputs": [],
   "source": [
    "import pandas as pd\n",
    "import numpy as np\n",
    "import matplotlib.pyplot as plt\n",
    "from sklearn.model_selection import train_test_split\n",
    "from sklearn.ensemble import HistGradientBoostingClassifier\n",
    "from sklearn.impute import KNNImputer\n",
    "from sklearn.neighbors import KNeighborsClassifier\n",
    "from sklearn.preprocessing import LabelEncoder\n",
    "from sklearn.metrics import accuracy_score, classification_report\n",
    "\n",
    "covid = pd.read_csv(\"datasets/Case_information.csv\")"
   ],
   "metadata": {
    "collapsed": false,
    "ExecuteTime": {
     "end_time": "2024-08-19T02:16:53.231201Z",
     "start_time": "2024-08-19T02:16:53.154705Z"
    }
   },
   "id": "cd6f0ae8f3dd6438",
   "execution_count": 135
  },
  {
   "cell_type": "markdown",
   "source": [
    "check data"
   ],
   "metadata": {
    "collapsed": false
   },
   "id": "785c666354d201f7"
  },
  {
   "cell_type": "code",
   "outputs": [
    {
     "data": {
      "text/plain": "       case_id   age age_group     sex date_announced date_recovered  \\\n0      C404174  38.0  35 to 39  Female     2020-01-30            NaN   \n1      C462688  44.0  40 to 44    Male     2020-02-03            NaN   \n2      C387710  60.0  60 to 64  Female     2020-02-05     2020-01-31   \n3      C377460  48.0  45 to 49    Male     2020-03-06            NaN   \n4      C498051  62.0  60 to 64    Male     2020-03-06            NaN   \n...        ...   ...       ...     ...            ...            ...   \n12086  C972617  35.0  35 to 39    Male     2020-05-15            NaN   \n12087  C975669  37.0  35 to 39    Male     2020-05-15            NaN   \n12088  C980530  62.0  60 to 64  Female     2020-05-15            NaN   \n12089  C987431  18.0  15 to 19  Female     2020-05-15            NaN   \n12090  C995671  50.0  50 to 54  Female     2020-05-15            NaN   \n\n      date_of_death            status date_announced_as_removed  \\\n0               NaN         Recovered                2020-02-07   \n1        2020-02-01              Died                2020-02-02   \n2               NaN         Recovered                2020-02-05   \n3               NaN         Recovered                2020-03-27   \n4        2020-03-11              Died                2020-03-12   \n...             ...               ...                       ...   \n12086           NaN    For validation                       NaN   \n12087    2020-05-13              Died                2020-05-15   \n12088           NaN    For validation                       NaN   \n12089           NaN  Home quarantined                       NaN   \n12090           NaN    For validation                       NaN   \n\n                  province       muni_city health_status home_quarantined  \\\n0          Negros Oriental  Dumaguete City     Recovered              NaN   \n1          Negros Oriental  Dumaguete City          Died              NaN   \n2                    Bohol         Panglao     Recovered               No   \n3      Metropolitan Manila          Taguig     Recovered               No   \n4                    Rizal          Cainta          Died               No   \n...                    ...             ...           ...              ...   \n12086  Metropolitan Manila     Makati City          Mild              NaN   \n12087        Davao del Sur      Davao City          Died              NaN   \n12088                  NaN             NaN          Mild              NaN   \n12089                Samar       Tarangnan  Asymptomatic              Yes   \n12090               Quezon      Candelaria          Mild              NaN   \n\n      date_of_onset_of_symptoms pregnant                         region  \n0                    2020-01-21      NaN   Central Visayas (Region VII)  \n1                    2020-01-18      NaN   Central Visayas (Region VII)  \n2                    2020-01-21      NaN   Central Visayas (Region VII)  \n3                    2020-03-03      NaN            Metropolitan Manila  \n4                    2020-02-25      NaN       CALABARZON (Region IV-A)  \n...                         ...      ...                            ...  \n12086                       NaN      NaN            Metropolitan Manila  \n12087                2020-04-29      NaN       Davao Region (Region XI)  \n12088                       NaN      NaN                            NaN  \n12089                       NaN       No  Eastern Visayas (Region VIII)  \n12090                       NaN      NaN       CALABARZON (Region IV-A)  \n\n[12091 rows x 16 columns]",
      "text/html": "<div>\n<style scoped>\n    .dataframe tbody tr th:only-of-type {\n        vertical-align: middle;\n    }\n\n    .dataframe tbody tr th {\n        vertical-align: top;\n    }\n\n    .dataframe thead th {\n        text-align: right;\n    }\n</style>\n<table border=\"1\" class=\"dataframe\">\n  <thead>\n    <tr style=\"text-align: right;\">\n      <th></th>\n      <th>case_id</th>\n      <th>age</th>\n      <th>age_group</th>\n      <th>sex</th>\n      <th>date_announced</th>\n      <th>date_recovered</th>\n      <th>date_of_death</th>\n      <th>status</th>\n      <th>date_announced_as_removed</th>\n      <th>province</th>\n      <th>muni_city</th>\n      <th>health_status</th>\n      <th>home_quarantined</th>\n      <th>date_of_onset_of_symptoms</th>\n      <th>pregnant</th>\n      <th>region</th>\n    </tr>\n  </thead>\n  <tbody>\n    <tr>\n      <th>0</th>\n      <td>C404174</td>\n      <td>38.0</td>\n      <td>35 to 39</td>\n      <td>Female</td>\n      <td>2020-01-30</td>\n      <td>NaN</td>\n      <td>NaN</td>\n      <td>Recovered</td>\n      <td>2020-02-07</td>\n      <td>Negros Oriental</td>\n      <td>Dumaguete City</td>\n      <td>Recovered</td>\n      <td>NaN</td>\n      <td>2020-01-21</td>\n      <td>NaN</td>\n      <td>Central Visayas (Region VII)</td>\n    </tr>\n    <tr>\n      <th>1</th>\n      <td>C462688</td>\n      <td>44.0</td>\n      <td>40 to 44</td>\n      <td>Male</td>\n      <td>2020-02-03</td>\n      <td>NaN</td>\n      <td>2020-02-01</td>\n      <td>Died</td>\n      <td>2020-02-02</td>\n      <td>Negros Oriental</td>\n      <td>Dumaguete City</td>\n      <td>Died</td>\n      <td>NaN</td>\n      <td>2020-01-18</td>\n      <td>NaN</td>\n      <td>Central Visayas (Region VII)</td>\n    </tr>\n    <tr>\n      <th>2</th>\n      <td>C387710</td>\n      <td>60.0</td>\n      <td>60 to 64</td>\n      <td>Female</td>\n      <td>2020-02-05</td>\n      <td>2020-01-31</td>\n      <td>NaN</td>\n      <td>Recovered</td>\n      <td>2020-02-05</td>\n      <td>Bohol</td>\n      <td>Panglao</td>\n      <td>Recovered</td>\n      <td>No</td>\n      <td>2020-01-21</td>\n      <td>NaN</td>\n      <td>Central Visayas (Region VII)</td>\n    </tr>\n    <tr>\n      <th>3</th>\n      <td>C377460</td>\n      <td>48.0</td>\n      <td>45 to 49</td>\n      <td>Male</td>\n      <td>2020-03-06</td>\n      <td>NaN</td>\n      <td>NaN</td>\n      <td>Recovered</td>\n      <td>2020-03-27</td>\n      <td>Metropolitan Manila</td>\n      <td>Taguig</td>\n      <td>Recovered</td>\n      <td>No</td>\n      <td>2020-03-03</td>\n      <td>NaN</td>\n      <td>Metropolitan Manila</td>\n    </tr>\n    <tr>\n      <th>4</th>\n      <td>C498051</td>\n      <td>62.0</td>\n      <td>60 to 64</td>\n      <td>Male</td>\n      <td>2020-03-06</td>\n      <td>NaN</td>\n      <td>2020-03-11</td>\n      <td>Died</td>\n      <td>2020-03-12</td>\n      <td>Rizal</td>\n      <td>Cainta</td>\n      <td>Died</td>\n      <td>No</td>\n      <td>2020-02-25</td>\n      <td>NaN</td>\n      <td>CALABARZON (Region IV-A)</td>\n    </tr>\n    <tr>\n      <th>...</th>\n      <td>...</td>\n      <td>...</td>\n      <td>...</td>\n      <td>...</td>\n      <td>...</td>\n      <td>...</td>\n      <td>...</td>\n      <td>...</td>\n      <td>...</td>\n      <td>...</td>\n      <td>...</td>\n      <td>...</td>\n      <td>...</td>\n      <td>...</td>\n      <td>...</td>\n      <td>...</td>\n    </tr>\n    <tr>\n      <th>12086</th>\n      <td>C972617</td>\n      <td>35.0</td>\n      <td>35 to 39</td>\n      <td>Male</td>\n      <td>2020-05-15</td>\n      <td>NaN</td>\n      <td>NaN</td>\n      <td>For validation</td>\n      <td>NaN</td>\n      <td>Metropolitan Manila</td>\n      <td>Makati City</td>\n      <td>Mild</td>\n      <td>NaN</td>\n      <td>NaN</td>\n      <td>NaN</td>\n      <td>Metropolitan Manila</td>\n    </tr>\n    <tr>\n      <th>12087</th>\n      <td>C975669</td>\n      <td>37.0</td>\n      <td>35 to 39</td>\n      <td>Male</td>\n      <td>2020-05-15</td>\n      <td>NaN</td>\n      <td>2020-05-13</td>\n      <td>Died</td>\n      <td>2020-05-15</td>\n      <td>Davao del Sur</td>\n      <td>Davao City</td>\n      <td>Died</td>\n      <td>NaN</td>\n      <td>2020-04-29</td>\n      <td>NaN</td>\n      <td>Davao Region (Region XI)</td>\n    </tr>\n    <tr>\n      <th>12088</th>\n      <td>C980530</td>\n      <td>62.0</td>\n      <td>60 to 64</td>\n      <td>Female</td>\n      <td>2020-05-15</td>\n      <td>NaN</td>\n      <td>NaN</td>\n      <td>For validation</td>\n      <td>NaN</td>\n      <td>NaN</td>\n      <td>NaN</td>\n      <td>Mild</td>\n      <td>NaN</td>\n      <td>NaN</td>\n      <td>NaN</td>\n      <td>NaN</td>\n    </tr>\n    <tr>\n      <th>12089</th>\n      <td>C987431</td>\n      <td>18.0</td>\n      <td>15 to 19</td>\n      <td>Female</td>\n      <td>2020-05-15</td>\n      <td>NaN</td>\n      <td>NaN</td>\n      <td>Home quarantined</td>\n      <td>NaN</td>\n      <td>Samar</td>\n      <td>Tarangnan</td>\n      <td>Asymptomatic</td>\n      <td>Yes</td>\n      <td>NaN</td>\n      <td>No</td>\n      <td>Eastern Visayas (Region VIII)</td>\n    </tr>\n    <tr>\n      <th>12090</th>\n      <td>C995671</td>\n      <td>50.0</td>\n      <td>50 to 54</td>\n      <td>Female</td>\n      <td>2020-05-15</td>\n      <td>NaN</td>\n      <td>NaN</td>\n      <td>For validation</td>\n      <td>NaN</td>\n      <td>Quezon</td>\n      <td>Candelaria</td>\n      <td>Mild</td>\n      <td>NaN</td>\n      <td>NaN</td>\n      <td>NaN</td>\n      <td>CALABARZON (Region IV-A)</td>\n    </tr>\n  </tbody>\n</table>\n<p>12091 rows × 16 columns</p>\n</div>"
     },
     "execution_count": 136,
     "metadata": {},
     "output_type": "execute_result"
    }
   ],
   "source": [
    "covid"
   ],
   "metadata": {
    "collapsed": false,
    "ExecuteTime": {
     "end_time": "2024-08-19T02:16:53.278711Z",
     "start_time": "2024-08-19T02:16:53.235758Z"
    }
   },
   "id": "d26bfc3b2ddac071",
   "execution_count": 136
  },
  {
   "cell_type": "markdown",
   "source": [
    "Dropping Missing Values and Irrelevant Features"
   ],
   "metadata": {
    "collapsed": false
   },
   "id": "95151b6d45544922"
  },
  {
   "cell_type": "code",
   "outputs": [],
   "source": [
    "# Removing Null values for Date recovered, home_quarantined, and Date of Death\n",
    "df = covid.dropna(subset=['date_recovered', 'date_of_death', 'home_quarantined'], how='all') \n",
    "\n",
    "#Removing values other than recovered and died\n",
    "values=['Critical', 'Severe', 'Mild', 'Asymptomatic']\n",
    "df = df[df.health_status.isin(values) == False]\n",
    "\n",
    "#Join data recovered and date death\n",
    "df['date_outcome'] = df['date_recovered'].fillna(df['date_of_death'])\n",
    "\n",
    "# Remove unnecessary columns\n",
    "df = df.drop(['case_id', 'date_announced_as_removed','date_of_death','date_recovered', 'status', 'age_group'], axis=1)\n"
   ],
   "metadata": {
    "collapsed": false,
    "ExecuteTime": {
     "end_time": "2024-08-19T02:16:53.308923Z",
     "start_time": "2024-08-19T02:16:53.282500Z"
    }
   },
   "id": "e051afcc41d3b007",
   "execution_count": 137
  },
  {
   "cell_type": "markdown",
   "source": [
    "Feature Engineering"
   ],
   "metadata": {
    "collapsed": false
   },
   "id": "731879fa27fcd921"
  },
  {
   "cell_type": "code",
   "outputs": [
    {
     "data": {
      "text/plain": "        age  sex  province  muni_city  health_status  home_quarantined  \\\n2      60.0    1         1          1              1                 0   \n3      48.0    0         2          2              1                 0   \n4      62.0    0         3          3              0                 0   \n5      58.0    1         3          3              0                 0   \n6      39.0    0         2          4              1                 0   \n...     ...  ...       ...        ...            ...               ...   \n10261  44.0    1         2         10              1                 1   \n10383  73.0    0         3         23              0                 0   \n11339  39.0    0         2         20              1                 1   \n11380  66.0    1         2         40              0                 1   \n11454  56.0    0        12         29              1                 1   \n\n       region  outcome_days  \n2           0          -5.0  \n3           1           NaN  \n4           2           5.0  \n5           2           5.0  \n6           1          13.0  \n...       ...           ...  \n10261       1           NaN  \n10383       2         -13.0  \n11339       1           NaN  \n11380       1         -11.0  \n11454       2           NaN  \n\n[2607 rows x 8 columns]",
      "text/html": "<div>\n<style scoped>\n    .dataframe tbody tr th:only-of-type {\n        vertical-align: middle;\n    }\n\n    .dataframe tbody tr th {\n        vertical-align: top;\n    }\n\n    .dataframe thead th {\n        text-align: right;\n    }\n</style>\n<table border=\"1\" class=\"dataframe\">\n  <thead>\n    <tr style=\"text-align: right;\">\n      <th></th>\n      <th>age</th>\n      <th>sex</th>\n      <th>province</th>\n      <th>muni_city</th>\n      <th>health_status</th>\n      <th>home_quarantined</th>\n      <th>region</th>\n      <th>outcome_days</th>\n    </tr>\n  </thead>\n  <tbody>\n    <tr>\n      <th>2</th>\n      <td>60.0</td>\n      <td>1</td>\n      <td>1</td>\n      <td>1</td>\n      <td>1</td>\n      <td>0</td>\n      <td>0</td>\n      <td>-5.0</td>\n    </tr>\n    <tr>\n      <th>3</th>\n      <td>48.0</td>\n      <td>0</td>\n      <td>2</td>\n      <td>2</td>\n      <td>1</td>\n      <td>0</td>\n      <td>1</td>\n      <td>NaN</td>\n    </tr>\n    <tr>\n      <th>4</th>\n      <td>62.0</td>\n      <td>0</td>\n      <td>3</td>\n      <td>3</td>\n      <td>0</td>\n      <td>0</td>\n      <td>2</td>\n      <td>5.0</td>\n    </tr>\n    <tr>\n      <th>5</th>\n      <td>58.0</td>\n      <td>1</td>\n      <td>3</td>\n      <td>3</td>\n      <td>0</td>\n      <td>0</td>\n      <td>2</td>\n      <td>5.0</td>\n    </tr>\n    <tr>\n      <th>6</th>\n      <td>39.0</td>\n      <td>0</td>\n      <td>2</td>\n      <td>4</td>\n      <td>1</td>\n      <td>0</td>\n      <td>1</td>\n      <td>13.0</td>\n    </tr>\n    <tr>\n      <th>...</th>\n      <td>...</td>\n      <td>...</td>\n      <td>...</td>\n      <td>...</td>\n      <td>...</td>\n      <td>...</td>\n      <td>...</td>\n      <td>...</td>\n    </tr>\n    <tr>\n      <th>10261</th>\n      <td>44.0</td>\n      <td>1</td>\n      <td>2</td>\n      <td>10</td>\n      <td>1</td>\n      <td>1</td>\n      <td>1</td>\n      <td>NaN</td>\n    </tr>\n    <tr>\n      <th>10383</th>\n      <td>73.0</td>\n      <td>0</td>\n      <td>3</td>\n      <td>23</td>\n      <td>0</td>\n      <td>0</td>\n      <td>2</td>\n      <td>-13.0</td>\n    </tr>\n    <tr>\n      <th>11339</th>\n      <td>39.0</td>\n      <td>0</td>\n      <td>2</td>\n      <td>20</td>\n      <td>1</td>\n      <td>1</td>\n      <td>1</td>\n      <td>NaN</td>\n    </tr>\n    <tr>\n      <th>11380</th>\n      <td>66.0</td>\n      <td>1</td>\n      <td>2</td>\n      <td>40</td>\n      <td>0</td>\n      <td>1</td>\n      <td>1</td>\n      <td>-11.0</td>\n    </tr>\n    <tr>\n      <th>11454</th>\n      <td>56.0</td>\n      <td>0</td>\n      <td>12</td>\n      <td>29</td>\n      <td>1</td>\n      <td>1</td>\n      <td>2</td>\n      <td>NaN</td>\n    </tr>\n  </tbody>\n</table>\n<p>2607 rows × 8 columns</p>\n</div>"
     },
     "execution_count": 138,
     "metadata": {},
     "output_type": "execute_result"
    }
   ],
   "source": [
    "#Conversion of status to categorical variables\n",
    "df['health_status'], uniques_hs = pd.factorize(df['health_status'])\n",
    "df['sex'], uniques_sex = pd.factorize(df['sex'])\n",
    "df['home_quarantined'], uniques_hq = pd.factorize(df['home_quarantined'])\n",
    "df['region'], uniques_region = pd.factorize(df['region'])\n",
    "df['muni_city'], uniques_mcity = pd.factorize(df['muni_city'])\n",
    "df['province'], uniques_prov = pd.factorize(df['province'])\n",
    "\n",
    "# label_encoder = LabelEncoder()\n",
    "# df['sex'] = label_encoder.fit_transform(df['sex'])\n",
    "\n",
    "#Conversion of date time columns to datetime format\n",
    "df['date_announced'] = pd.to_datetime(df['date_announced'])\n",
    "df['date_outcome'] = pd.to_datetime(df['date_outcome'])\n",
    "df['date_of_onset_of_symptoms'] = pd.to_datetime(df['date_of_onset_of_symptoms'])\n",
    "\n",
    "#Computation of outcome days\n",
    "df['outcome_days'] = (df['date_outcome'] - df['date_announced']) / np.timedelta64(1, 'D')\n",
    "df = df.drop(['date_outcome', 'date_announced', 'pregnant', 'date_of_onset_of_symptoms'], axis=1)\n",
    "df = df[df.home_quarantined != -1]\n",
    "\n",
    "df"
   ],
   "metadata": {
    "collapsed": false,
    "ExecuteTime": {
     "end_time": "2024-08-19T02:16:53.386281Z",
     "start_time": "2024-08-19T02:16:53.312556Z"
    }
   },
   "id": "1626399059f35cbc",
   "execution_count": 138
  },
  {
   "cell_type": "markdown",
   "source": [
    "Data split"
   ],
   "metadata": {
    "collapsed": false
   },
   "id": "c64420392bf46ec0"
  },
  {
   "cell_type": "code",
   "outputs": [],
   "source": [
    "features = ['age', 'sex', 'home_quarantined', 'outcome_days', 'region', 'province']\n",
    "X = df[features]\n",
    "y = df['health_status']\n",
    "X_train, X_test, y_train, y_test = train_test_split(X, y, test_size=0.2, random_state=42)\n"
   ],
   "metadata": {
    "collapsed": false,
    "ExecuteTime": {
     "end_time": "2024-08-19T02:16:53.417682Z",
     "start_time": "2024-08-19T02:16:53.391549Z"
    }
   },
   "id": "896df1a70487a4ec",
   "execution_count": 139
  },
  {
   "cell_type": "markdown",
   "source": [
    "Model Evaluation"
   ],
   "metadata": {
    "collapsed": false
   },
   "id": "e0bbae1b819f172e"
  },
  {
   "cell_type": "code",
   "outputs": [
    {
     "name": "stdout",
     "output_type": "stream",
     "text": [
      "Binning 0.000 GB of training data: 0.003 s\n",
      "Fitting gradient boosted rounds:\n",
      "[1/100] 1 tree, 31 leaves, max depth = 10, in 0.017s\n",
      "[2/100] 1 tree, 31 leaves, max depth = 10, in 0.011s\n",
      "[3/100] 1 tree, 31 leaves, max depth = 10, in 0.013s\n",
      "[4/100] 1 tree, 31 leaves, max depth = 10, in 0.011s\n",
      "[5/100] 1 tree, 31 leaves, max depth = 11, in 0.011s\n",
      "[6/100] 1 tree, 31 leaves, max depth = 10, in 0.011s\n",
      "[7/100] 1 tree, 31 leaves, max depth = 11, in 0.010s\n",
      "[8/100] 1 tree, 31 leaves, max depth = 10, in 0.010s\n",
      "[9/100] 1 tree, 31 leaves, max depth = 9, in 0.012s\n",
      "[10/100] 1 tree, 31 leaves, max depth = 11, in 0.009s\n",
      "[11/100] 1 tree, 31 leaves, max depth = 10, in 0.010s\n",
      "[12/100] 1 tree, 31 leaves, max depth = 10, in 0.010s\n",
      "[13/100] 1 tree, 31 leaves, max depth = 11, in 0.010s\n",
      "[14/100] 1 tree, 31 leaves, max depth = 11, in 0.010s\n",
      "[15/100] 1 tree, 31 leaves, max depth = 12, in 0.010s\n",
      "[16/100] 1 tree, 31 leaves, max depth = 11, in 0.010s\n",
      "[17/100] 1 tree, 31 leaves, max depth = 11, in 0.010s\n",
      "[18/100] 1 tree, 31 leaves, max depth = 11, in 0.010s\n",
      "[19/100] 1 tree, 31 leaves, max depth = 10, in 0.009s\n",
      "[20/100] 1 tree, 31 leaves, max depth = 10, in 0.010s\n",
      "[21/100] 1 tree, 31 leaves, max depth = 10, in 0.010s\n",
      "[22/100] 1 tree, 31 leaves, max depth = 11, in 0.010s\n",
      "[23/100] 1 tree, 31 leaves, max depth = 11, in 0.010s\n",
      "[24/100] 1 tree, 31 leaves, max depth = 10, in 0.009s\n",
      "[25/100] 1 tree, 31 leaves, max depth = 11, in 0.009s\n",
      "[26/100] 1 tree, 31 leaves, max depth = 15, in 0.010s\n",
      "[27/100] 1 tree, 31 leaves, max depth = 14, in 0.011s\n",
      "[28/100] 1 tree, 31 leaves, max depth = 9, in 0.010s\n",
      "[29/100] 1 tree, 31 leaves, max depth = 8, in 0.009s\n",
      "[30/100] 1 tree, 31 leaves, max depth = 11, in 0.010s\n",
      "[31/100] 1 tree, 31 leaves, max depth = 11, in 0.010s\n",
      "[32/100] 1 tree, 31 leaves, max depth = 12, in 0.010s\n",
      "[33/100] 1 tree, 31 leaves, max depth = 17, in 0.011s\n",
      "[34/100] 1 tree, 31 leaves, max depth = 10, in 0.010s\n",
      "[35/100] 1 tree, 31 leaves, max depth = 13, in 0.009s\n",
      "[36/100] 1 tree, 31 leaves, max depth = 12, in 0.009s\n",
      "[37/100] 1 tree, 31 leaves, max depth = 14, in 0.011s\n",
      "[38/100] 1 tree, 31 leaves, max depth = 13, in 0.010s\n",
      "[39/100] 1 tree, 31 leaves, max depth = 12, in 0.011s\n",
      "[40/100] 1 tree, 31 leaves, max depth = 19, in 0.009s\n",
      "[41/100] 1 tree, 31 leaves, max depth = 16, in 0.010s\n",
      "[42/100] 1 tree, 31 leaves, max depth = 14, in 0.011s\n",
      "[43/100] 1 tree, 31 leaves, max depth = 15, in 0.011s\n",
      "[44/100] 1 tree, 31 leaves, max depth = 19, in 0.010s\n",
      "[45/100] 1 tree, 31 leaves, max depth = 14, in 0.010s\n",
      "[46/100] 1 tree, 31 leaves, max depth = 12, in 0.010s\n",
      "[47/100] 1 tree, 31 leaves, max depth = 12, in 0.010s\n",
      "[48/100] 1 tree, 31 leaves, max depth = 13, in 0.010s\n",
      "[49/100] 1 tree, 31 leaves, max depth = 11, in 0.010s\n",
      "[50/100] 1 tree, 31 leaves, max depth = 14, in 0.009s\n",
      "[51/100] 1 tree, 31 leaves, max depth = 14, in 0.011s\n",
      "[52/100] 1 tree, 31 leaves, max depth = 15, in 0.009s\n",
      "[53/100] 1 tree, 31 leaves, max depth = 17, in 0.011s\n",
      "[54/100] 1 tree, 31 leaves, max depth = 13, in 0.012s\n",
      "[55/100] 1 tree, 31 leaves, max depth = 12, in 0.010s\n",
      "[56/100] 1 tree, 31 leaves, max depth = 11, in 0.009s\n",
      "[57/100] 1 tree, 31 leaves, max depth = 19, in 0.011s\n",
      "[58/100] 1 tree, 31 leaves, max depth = 19, in 0.010s\n",
      "[59/100] 1 tree, 31 leaves, max depth = 14, in 0.011s\n",
      "[60/100] 1 tree, 31 leaves, max depth = 14, in 0.011s\n",
      "[61/100] 1 tree, 31 leaves, max depth = 16, in 0.011s\n",
      "[62/100] 1 tree, 31 leaves, max depth = 17, in 0.009s\n",
      "[63/100] 1 tree, 31 leaves, max depth = 11, in 0.012s\n",
      "[64/100] 1 tree, 31 leaves, max depth = 13, in 0.013s\n",
      "[65/100] 1 tree, 31 leaves, max depth = 18, in 0.012s\n",
      "[66/100] 1 tree, 31 leaves, max depth = 17, in 0.011s\n",
      "[67/100] 1 tree, 31 leaves, max depth = 19, in 0.012s\n",
      "[68/100] 1 tree, 31 leaves, max depth = 11, in 0.011s\n",
      "[69/100] 1 tree, 31 leaves, max depth = 14, in 0.010s\n",
      "[70/100] 1 tree, 31 leaves, max depth = 16, in 0.017s\n",
      "[71/100] 1 tree, 31 leaves, max depth = 11, in 0.010s\n",
      "[72/100] 1 tree, 31 leaves, max depth = 20, in 0.009s\n",
      "[73/100] 1 tree, 31 leaves, max depth = 13, in 0.010s\n",
      "[74/100] 1 tree, 31 leaves, max depth = 18, in 0.010s\n",
      "[75/100] 1 tree, 31 leaves, max depth = 15, in 0.012s\n",
      "[76/100] 1 tree, 31 leaves, max depth = 17, in 0.010s\n",
      "[77/100] 1 tree, 31 leaves, max depth = 11, in 0.010s\n",
      "[78/100] 1 tree, 31 leaves, max depth = 11, in 0.010s\n",
      "[79/100] 1 tree, 31 leaves, max depth = 17, in 0.011s\n",
      "[80/100] 1 tree, 31 leaves, max depth = 13, in 0.010s\n",
      "[81/100] 1 tree, 31 leaves, max depth = 11, in 0.010s\n",
      "[82/100] 1 tree, 31 leaves, max depth = 15, in 0.010s\n",
      "[83/100] 1 tree, 31 leaves, max depth = 21, in 0.011s\n",
      "[84/100] 1 tree, 31 leaves, max depth = 11, in 0.008s\n",
      "[85/100] 1 tree, 31 leaves, max depth = 11, in 0.009s\n",
      "[86/100] 1 tree, 31 leaves, max depth = 16, in 0.010s\n",
      "[87/100] 1 tree, 31 leaves, max depth = 20, in 0.009s\n",
      "[88/100] 1 tree, 31 leaves, max depth = 10, in 0.010s\n",
      "[89/100] 1 tree, 31 leaves, max depth = 20, in 0.009s\n",
      "[90/100] 1 tree, 31 leaves, max depth = 13, in 0.010s\n",
      "[91/100] 1 tree, 31 leaves, max depth = 20, in 0.010s\n",
      "[92/100] 1 tree, 31 leaves, max depth = 16, in 0.010s\n",
      "[93/100] 1 tree, 31 leaves, max depth = 11, in 0.011s\n",
      "[94/100] 1 tree, 31 leaves, max depth = 13, in 0.011s\n",
      "[95/100] 1 tree, 31 leaves, max depth = 13, in 0.011s\n",
      "[96/100] 1 tree, 31 leaves, max depth = 17, in 0.010s\n",
      "[97/100] 1 tree, 31 leaves, max depth = 12, in 0.011s\n",
      "[98/100] 1 tree, 31 leaves, max depth = 17, in 0.011s\n",
      "[99/100] 1 tree, 31 leaves, max depth = 11, in 0.011s\n",
      "[100/100] 1 tree, 31 leaves, max depth = 15, in 0.011s\n",
      "Fit 100 trees in 1.065 s, (3100 total leaves)\n",
      "Time spent computing histograms: 0.214s\n",
      "Time spent finding best splits:  0.141s\n",
      "Time spent applying splits:      0.183s\n",
      "Time spent predicting:           0.007s\n",
      "Accuracy: 0.927\n"
     ]
    }
   ],
   "source": [
    "categorical_features = np.array(['sex', 'province', 'home_quarantined', 'region'])\n",
    "\n",
    "# HistGradientBoostingClassifier model\n",
    "hgb_model = HistGradientBoostingClassifier(\n",
    "    categorical_features = categorical_features,\n",
    "    verbose = 1\n",
    "    )\n",
    "hgb_model.fit(X_train, y_train)\n",
    "\n",
    "# predictions on the test set\n",
    "y_pred = hgb_model.predict(X_test)\n",
    "accuracy = accuracy_score(y_test, y_pred)\n",
    "print(f'Accuracy: {accuracy:.3f}')"
   ],
   "metadata": {
    "collapsed": false,
    "ExecuteTime": {
     "end_time": "2024-08-19T02:16:54.519333Z",
     "start_time": "2024-08-19T02:16:53.421034Z"
    }
   },
   "id": "8e1218f88fc1f2c0",
   "execution_count": 140
  },
  {
   "cell_type": "code",
   "outputs": [
    {
     "data": {
      "text/plain": "        age  sex  province  muni_city  health_status  home_quarantined  \\\n2      60.0    1         1          1              1                 0   \n3      48.0    0         2          2              1                 0   \n4      62.0    0         3          3              0                 0   \n5      58.0    1         3          3              0                 0   \n6      39.0    0         2          4              1                 0   \n...     ...  ...       ...        ...            ...               ...   \n10261  44.0    1         2         10              1                 1   \n10383  73.0    0         3         23              0                 0   \n11339  39.0    0         2         20              1                 1   \n11380  66.0    1         2         40              0                 1   \n11454  56.0    0        12         29              1                 1   \n\n       region  outcome_days  \n2           0          -5.0  \n3           1           NaN  \n4           2           5.0  \n5           2           5.0  \n6           1          13.0  \n...       ...           ...  \n10261       1           NaN  \n10383       2         -13.0  \n11339       1           NaN  \n11380       1         -11.0  \n11454       2           NaN  \n\n[2607 rows x 8 columns]",
      "text/html": "<div>\n<style scoped>\n    .dataframe tbody tr th:only-of-type {\n        vertical-align: middle;\n    }\n\n    .dataframe tbody tr th {\n        vertical-align: top;\n    }\n\n    .dataframe thead th {\n        text-align: right;\n    }\n</style>\n<table border=\"1\" class=\"dataframe\">\n  <thead>\n    <tr style=\"text-align: right;\">\n      <th></th>\n      <th>age</th>\n      <th>sex</th>\n      <th>province</th>\n      <th>muni_city</th>\n      <th>health_status</th>\n      <th>home_quarantined</th>\n      <th>region</th>\n      <th>outcome_days</th>\n    </tr>\n  </thead>\n  <tbody>\n    <tr>\n      <th>2</th>\n      <td>60.0</td>\n      <td>1</td>\n      <td>1</td>\n      <td>1</td>\n      <td>1</td>\n      <td>0</td>\n      <td>0</td>\n      <td>-5.0</td>\n    </tr>\n    <tr>\n      <th>3</th>\n      <td>48.0</td>\n      <td>0</td>\n      <td>2</td>\n      <td>2</td>\n      <td>1</td>\n      <td>0</td>\n      <td>1</td>\n      <td>NaN</td>\n    </tr>\n    <tr>\n      <th>4</th>\n      <td>62.0</td>\n      <td>0</td>\n      <td>3</td>\n      <td>3</td>\n      <td>0</td>\n      <td>0</td>\n      <td>2</td>\n      <td>5.0</td>\n    </tr>\n    <tr>\n      <th>5</th>\n      <td>58.0</td>\n      <td>1</td>\n      <td>3</td>\n      <td>3</td>\n      <td>0</td>\n      <td>0</td>\n      <td>2</td>\n      <td>5.0</td>\n    </tr>\n    <tr>\n      <th>6</th>\n      <td>39.0</td>\n      <td>0</td>\n      <td>2</td>\n      <td>4</td>\n      <td>1</td>\n      <td>0</td>\n      <td>1</td>\n      <td>13.0</td>\n    </tr>\n    <tr>\n      <th>...</th>\n      <td>...</td>\n      <td>...</td>\n      <td>...</td>\n      <td>...</td>\n      <td>...</td>\n      <td>...</td>\n      <td>...</td>\n      <td>...</td>\n    </tr>\n    <tr>\n      <th>10261</th>\n      <td>44.0</td>\n      <td>1</td>\n      <td>2</td>\n      <td>10</td>\n      <td>1</td>\n      <td>1</td>\n      <td>1</td>\n      <td>NaN</td>\n    </tr>\n    <tr>\n      <th>10383</th>\n      <td>73.0</td>\n      <td>0</td>\n      <td>3</td>\n      <td>23</td>\n      <td>0</td>\n      <td>0</td>\n      <td>2</td>\n      <td>-13.0</td>\n    </tr>\n    <tr>\n      <th>11339</th>\n      <td>39.0</td>\n      <td>0</td>\n      <td>2</td>\n      <td>20</td>\n      <td>1</td>\n      <td>1</td>\n      <td>1</td>\n      <td>NaN</td>\n    </tr>\n    <tr>\n      <th>11380</th>\n      <td>66.0</td>\n      <td>1</td>\n      <td>2</td>\n      <td>40</td>\n      <td>0</td>\n      <td>1</td>\n      <td>1</td>\n      <td>-11.0</td>\n    </tr>\n    <tr>\n      <th>11454</th>\n      <td>56.0</td>\n      <td>0</td>\n      <td>12</td>\n      <td>29</td>\n      <td>1</td>\n      <td>1</td>\n      <td>2</td>\n      <td>NaN</td>\n    </tr>\n  </tbody>\n</table>\n<p>2607 rows × 8 columns</p>\n</div>"
     },
     "execution_count": 141,
     "metadata": {},
     "output_type": "execute_result"
    }
   ],
   "source": [
    "dfKnn = df\n",
    "\n",
    "dfKnn"
   ],
   "metadata": {
    "collapsed": false,
    "ExecuteTime": {
     "end_time": "2024-08-19T02:16:54.565935Z",
     "start_time": "2024-08-19T02:16:54.522550Z"
    }
   },
   "id": "a76953cdec800271",
   "execution_count": 141
  },
  {
   "cell_type": "code",
   "outputs": [
    {
     "data": {
      "text/plain": "        age  sex  province  muni_city  health_status  home_quarantined  \\\n2      60.0    1         1          1              1                 0   \n3      48.0    0         2          2              1                 0   \n4      62.0    0         3          3              0                 0   \n5      58.0    1         3          3              0                 0   \n6      39.0    0         2          4              1                 0   \n...     ...  ...       ...        ...            ...               ...   \n10261  44.0    1         2         10              1                 1   \n10383  73.0    0         3         23              0                 0   \n11339  39.0    0         2         20              1                 1   \n11380  66.0    1         2         40              0                 1   \n11454  56.0    0        12         29              1                 1   \n\n       region  outcome_days  \n2           0          -5.0  \n3           1          18.8  \n4           2           5.0  \n5           2           5.0  \n6           1          13.0  \n...       ...           ...  \n10261       1          14.2  \n10383       2         -13.0  \n11339       1          21.4  \n11380       1         -11.0  \n11454       2          11.6  \n\n[2607 rows x 8 columns]",
      "text/html": "<div>\n<style scoped>\n    .dataframe tbody tr th:only-of-type {\n        vertical-align: middle;\n    }\n\n    .dataframe tbody tr th {\n        vertical-align: top;\n    }\n\n    .dataframe thead th {\n        text-align: right;\n    }\n</style>\n<table border=\"1\" class=\"dataframe\">\n  <thead>\n    <tr style=\"text-align: right;\">\n      <th></th>\n      <th>age</th>\n      <th>sex</th>\n      <th>province</th>\n      <th>muni_city</th>\n      <th>health_status</th>\n      <th>home_quarantined</th>\n      <th>region</th>\n      <th>outcome_days</th>\n    </tr>\n  </thead>\n  <tbody>\n    <tr>\n      <th>2</th>\n      <td>60.0</td>\n      <td>1</td>\n      <td>1</td>\n      <td>1</td>\n      <td>1</td>\n      <td>0</td>\n      <td>0</td>\n      <td>-5.0</td>\n    </tr>\n    <tr>\n      <th>3</th>\n      <td>48.0</td>\n      <td>0</td>\n      <td>2</td>\n      <td>2</td>\n      <td>1</td>\n      <td>0</td>\n      <td>1</td>\n      <td>18.8</td>\n    </tr>\n    <tr>\n      <th>4</th>\n      <td>62.0</td>\n      <td>0</td>\n      <td>3</td>\n      <td>3</td>\n      <td>0</td>\n      <td>0</td>\n      <td>2</td>\n      <td>5.0</td>\n    </tr>\n    <tr>\n      <th>5</th>\n      <td>58.0</td>\n      <td>1</td>\n      <td>3</td>\n      <td>3</td>\n      <td>0</td>\n      <td>0</td>\n      <td>2</td>\n      <td>5.0</td>\n    </tr>\n    <tr>\n      <th>6</th>\n      <td>39.0</td>\n      <td>0</td>\n      <td>2</td>\n      <td>4</td>\n      <td>1</td>\n      <td>0</td>\n      <td>1</td>\n      <td>13.0</td>\n    </tr>\n    <tr>\n      <th>...</th>\n      <td>...</td>\n      <td>...</td>\n      <td>...</td>\n      <td>...</td>\n      <td>...</td>\n      <td>...</td>\n      <td>...</td>\n      <td>...</td>\n    </tr>\n    <tr>\n      <th>10261</th>\n      <td>44.0</td>\n      <td>1</td>\n      <td>2</td>\n      <td>10</td>\n      <td>1</td>\n      <td>1</td>\n      <td>1</td>\n      <td>14.2</td>\n    </tr>\n    <tr>\n      <th>10383</th>\n      <td>73.0</td>\n      <td>0</td>\n      <td>3</td>\n      <td>23</td>\n      <td>0</td>\n      <td>0</td>\n      <td>2</td>\n      <td>-13.0</td>\n    </tr>\n    <tr>\n      <th>11339</th>\n      <td>39.0</td>\n      <td>0</td>\n      <td>2</td>\n      <td>20</td>\n      <td>1</td>\n      <td>1</td>\n      <td>1</td>\n      <td>21.4</td>\n    </tr>\n    <tr>\n      <th>11380</th>\n      <td>66.0</td>\n      <td>1</td>\n      <td>2</td>\n      <td>40</td>\n      <td>0</td>\n      <td>1</td>\n      <td>1</td>\n      <td>-11.0</td>\n    </tr>\n    <tr>\n      <th>11454</th>\n      <td>56.0</td>\n      <td>0</td>\n      <td>12</td>\n      <td>29</td>\n      <td>1</td>\n      <td>1</td>\n      <td>2</td>\n      <td>11.6</td>\n    </tr>\n  </tbody>\n</table>\n<p>2607 rows × 8 columns</p>\n</div>"
     },
     "execution_count": 142,
     "metadata": {},
     "output_type": "execute_result"
    }
   ],
   "source": [
    "imputer = KNNImputer(n_neighbors=5)\n",
    "dfKnn[['outcome_days', 'age']] = imputer.fit_transform(dfKnn[['outcome_days', 'age']])\n",
    "\n",
    "dfKnn"
   ],
   "metadata": {
    "collapsed": false,
    "ExecuteTime": {
     "end_time": "2024-08-19T02:16:54.829474Z",
     "start_time": "2024-08-19T02:16:54.571660Z"
    }
   },
   "id": "7c36670cd2014326",
   "execution_count": 142
  },
  {
   "cell_type": "markdown",
   "source": [],
   "metadata": {
    "collapsed": false
   },
   "id": "d66f12e4ad96a9b4"
  },
  {
   "cell_type": "code",
   "outputs": [
    {
     "name": "stdout",
     "output_type": "stream",
     "text": [
      "Accuracy: 0.912\n"
     ]
    }
   ],
   "source": [
    "features = ['age', 'sex', 'home_quarantined', 'outcome_days', 'region', 'province']\n",
    "X = df[features]\n",
    "y = df['health_status']\n",
    "X_train, X_test, y_train, y_test = train_test_split(X, y, test_size=0.2, random_state=42)\n",
    "\n",
    "# KNeighborsClassifier model\n",
    "knn = KNeighborsClassifier(n_neighbors=6)\n",
    "knn.fit(X_train, y_train)\n",
    "\n",
    "# Make predictions on the test set\n",
    "y_pred = knn.predict(X_test)\n",
    "accuracy = accuracy_score(y_test, y_pred)\n",
    "print(f'Accuracy: {accuracy:.3f}')"
   ],
   "metadata": {
    "collapsed": false,
    "ExecuteTime": {
     "end_time": "2024-08-19T02:35:12.333529Z",
     "start_time": "2024-08-19T02:35:12.298705Z"
    }
   },
   "id": "892a53232a4fe6a4",
   "execution_count": 163
  },
  {
   "cell_type": "markdown",
   "source": [],
   "metadata": {
    "collapsed": false
   },
   "id": "27817aa369d77b4c"
  },
  {
   "cell_type": "markdown",
   "source": [],
   "metadata": {
    "collapsed": false
   },
   "id": "a409e01cbe05649f"
  },
  {
   "cell_type": "code",
   "outputs": [],
   "source": [
    "# loading library\n",
    "import pickle\n",
    "# create an iterator object with write permission - model.pkl\n",
    "with open('hgb_model_pkl', 'wb') as files:\n",
    "    pickle.dump(hgb_model, files)"
   ],
   "metadata": {
    "collapsed": false,
    "ExecuteTime": {
     "end_time": "2024-08-19T02:23:34.944514Z",
     "start_time": "2024-08-19T02:23:34.916967Z"
    }
   },
   "id": "ba85bb6bcee3febe",
   "execution_count": 145
  }
 ],
 "metadata": {
  "kernelspec": {
   "display_name": "Python 3",
   "language": "python",
   "name": "python3"
  },
  "language_info": {
   "codemirror_mode": {
    "name": "ipython",
    "version": 2
   },
   "file_extension": ".py",
   "mimetype": "text/x-python",
   "name": "python",
   "nbconvert_exporter": "python",
   "pygments_lexer": "ipython2",
   "version": "2.7.6"
  }
 },
 "nbformat": 4,
 "nbformat_minor": 5
}
